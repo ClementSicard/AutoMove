{
 "cells": [
  {
   "cell_type": "code",
   "execution_count": 4,
   "metadata": {},
   "outputs": [],
   "source": [
    "from pync import notify"
   ]
  },
  {
   "cell_type": "code",
   "execution_count": 5,
   "metadata": {},
   "outputs": [],
   "source": [
    "notify(f\"❌ Oups, impossible de déplacer.\",\n",
    "            title=\"AutoMove 🔁\", actions=\"Close\", )\n"
   ]
  },
  {
   "cell_type": "code",
   "execution_count": 9,
   "metadata": {},
   "outputs": [
    {
     "name": "stdout",
     "output_type": "stream",
     "text": [
      "@CLOSED"
     ]
    }
   ],
   "source": [
    "!chmod +x alerter"
   ]
  },
  {
   "cell_type": "code",
   "execution_count": 13,
   "metadata": {},
   "outputs": [
    {
     "name": "stdout",
     "output_type": "stream",
     "text": [
      "@CLOSED"
     ]
    }
   ],
   "source": [
    "!res/./alerter -appIcon \"/Users/clementsicard/Developer/GitHub/Automove/res/icon.png\" -message \"New notification :)\""
   ]
  },
  {
   "cell_type": "code",
   "execution_count": null,
   "metadata": {},
   "outputs": [],
   "source": []
  }
 ],
 "metadata": {
  "interpreter": {
   "hash": "f73e8482144315c30b26ef3a796c5a699ab7d50e9d9f2f269b418d6875b5d2de"
  },
  "kernelspec": {
   "display_name": "Python 3.9.5 64-bit ('automove': conda)",
   "name": "python3"
  },
  "language_info": {
   "codemirror_mode": {
    "name": "ipython",
    "version": 3
   },
   "file_extension": ".py",
   "mimetype": "text/x-python",
   "name": "python",
   "nbconvert_exporter": "python",
   "pygments_lexer": "ipython3",
   "version": "3.9.5"
  },
  "orig_nbformat": 4
 },
 "nbformat": 4,
 "nbformat_minor": 2
}
