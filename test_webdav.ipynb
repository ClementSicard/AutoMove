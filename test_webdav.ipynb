{
 "cells": [
  {
   "cell_type": "code",
   "execution_count": 44,
   "source": [
    "import paramiko\n",
    "import configparser\n",
    "import shutil\n",
    "import os\n",
    "import glob\n",
    "import time\n",
    "import configparser\n",
    "import pync\n",
    "import re\n",
    "import paramiko\n",
    "from fnmatch import fnmatch\n",
    "from typing import List"
   ],
   "outputs": [],
   "metadata": {}
  },
  {
   "cell_type": "code",
   "execution_count": 45,
   "source": [
    "SERIES_REGEXP = r\"\\w+ - S\\d*.*.\\w+$\"\n",
    "HW_REGEXP = r\"\\w+ - HW\\d*.*.\\w+$\"\n",
    "EXAM_REGEXP = r\"\\w+ - E\\d*.*.\\w+$\"\n",
    "REVISION_REGEXP = r\"\\w+ - R\\d*.*.\\w+$\"\n",
    "LECTURE_REGEXP = r\"\\w+ - (\\d*|Lecture notes|SLIDES|Slides).*.\\w+$\"\n",
    "CS_REGEXP = r\"\\w+ - (Summary|Tricks|Useful to know|Cheatsheet|Formulaire)*.*.\\w+$\"\n",
    "\n",
    "\n",
    "config = configparser.ConfigParser()\n",
    "config.read(\"config.ini\")\n",
    "\n",
    "\n",
    "host = config[\"SFTP\"][\"sftp_host\"]\n",
    "port = int(config[\"SFTP\"][\"sftp_port\"])\n",
    "account = config[\"SFTP\"][\"sftp_account\"]\n",
    "pw = config[\"SFTP\"][\"sftp_pw\"]\n"
   ],
   "outputs": [],
   "metadata": {}
  },
  {
   "cell_type": "code",
   "execution_count": 46,
   "source": [
    "def modified_path_with_regex(file_name) -> str:\n",
    "    if re.search(SERIES_REGEXP, file_name):\n",
    "        idx = file_name[1:].find(\"/\") + 1\n",
    "        return file_name[:idx + 1] + \"EXERCIZES\" + file_name[idx:]\n",
    "    elif re.search(HW_REGEXP, file_name):\n",
    "        idx = file_name[1:].find(\"/\") + 1\n",
    "        return file_name[:idx + 1] + \"HOMEWORKS\" + file_name[idx:]\n",
    "    elif re.search(LECTURE_REGEXP, file_name):\n",
    "        idx = file_name[1:].find(\"/\") + 1\n",
    "        return file_name[: idx + 1] + \"LECTURES\" + file_name[idx:]\n",
    "    elif re.search(CS_REGEXP, file_name):\n",
    "        idx = file_name[1:].find(\"/\") + 1\n",
    "        return file_name[: idx + 1] + \"CHEATSHEETS\" + file_name[idx:]\n",
    "    elif re.search(EXAM_REGEXP, file_name):\n",
    "        idx = file_name[1:].find(\"/\") + 1\n",
    "        return file_name[: idx + 1] + \"EXAMS\" + file_name[idx:]\n",
    "    elif re.search(REVISION_REGEXP, file_name):\n",
    "        idx = file_name[1:].find(\"/\") + 1\n",
    "        return file_name[: idx + 1] + \"REVISIONS\" + file_name[idx:]\n",
    "    else:\n",
    "        return file_name\n",
    "\n",
    "\n",
    "def terminal_command(path: str) -> str:\n",
    "    return \"terminal-notifier -title 'Title' -message 'Message' -actions 'Close' -execute 'open ~/'\"\n"
   ],
   "outputs": [],
   "metadata": {}
  },
  {
   "cell_type": "code",
   "execution_count": 47,
   "source": [
    "def connect_to_SFTP(host: str, port: int, account: str, pw: str) -> paramiko.SFTPClient:\n",
    "    transport = paramiko.Transport((host, port))\n",
    "    transport.connect(None, account, pw)\n",
    "    return paramiko.SFTPClient.from_transport(transport)"
   ],
   "outputs": [],
   "metadata": {}
  },
  {
   "cell_type": "code",
   "execution_count": 48,
   "source": [
    "icloud_path = config[\"PATHS\"][\"icloud_path\"]\n",
    "sftp_path = config[\"PATHS\"][\"sftp_path\"]\n",
    "sftp_backup_path = config[\"PATHS\"][\"sftp_backup_path\"]\n",
    "\n",
    "nothing = False\n",
    "pync.notify(\"📣 AutoMove a démarré !\", title=\"AutoMove 🔁\", actions=\"Close\",\n",
    "            execute=\"open \\\"{}\\\"\".format(icloud_path[:-1]))\n",
    "\n",
    "\n",
    "sftp = connect_to_SFTP(host, port, account, pw)\n",
    "sftp.chdir(sftp_backup_path)\n"
   ],
   "outputs": [],
   "metadata": {}
  },
  {
   "cell_type": "code",
   "execution_count": 56,
   "source": [
    "def get_files_to_upload(folder: str) -> List[str]:\n",
    "    to_return = []\n",
    "    folder_path = os.path.join(sftp_backup_path, folder)\n",
    "    if sftp_exists(folder_path):\n",
    "        for f in sftp.listdir(folder_path):\n",
    "            if fnmatch(f, \"*.*\"):\n",
    "                to_return.append(os.path.join(folder, f))\n",
    "        return to_return\n",
    "    else:\n",
    "        return []\n",
    "\n",
    "\n",
    "def sftp_exists(path: str) -> bool:\n",
    "    try:\n",
    "        sftp.stat(path)\n",
    "        return True\n",
    "    except FileNotFoundError:\n",
    "        return False"
   ],
   "outputs": [],
   "metadata": {
    "collapsed": false,
    "pycharm": {
     "name": "#%%\n"
    }
   }
  },
  {
   "cell_type": "code",
   "execution_count": 66,
   "source": [
    "def copy_files_to_icloud(paths: List[str]):\n",
    "    try:\n",
    "        for f in paths:\n",
    "            new_path = modified_path_with_regex(f)\n",
    "            file_name = f[f.rfind(\"/\") + 1:]\n",
    "\n",
    "            path_exists_on_icloud = os.path.exists(os.path.join(icloud_path, new_path))\n",
    "\n",
    "            if not path_exists_on_icloud:\n",
    "                try:\n",
    "                    sftp.get(os.path.join(sftp_backup_path, f), os.path.join(icloud_path, f))\n",
    "\n",
    "                    pync.notify(f\"❓ Oups! Path inconnu\\n{file_name} a été déplacé à la racine du dossier.\",\n",
    "                                title=\"AutoMove 🔁\", actions=\"Close\", execute=f'open \"{os.path.join(icloud_path, f)}\"')\n",
    "                except FileNotFoundError:\n",
    "                    pync.notify(f\"❌ Oups, impossible de déplacer {file_name}.\",\n",
    "                                title=\"AutoMove 🔁\", actions=\"Close\")\n",
    "\n",
    "            # TODO: change to sftp\n",
    "            sftp.get(os.path.join(sftp_backup_path, f), os.path.join(icloud_path, new_path))\n",
    "\n",
    "            if len(paths) == 1 and new_path != f:\n",
    "                if not path_exists_on_icloud:\n",
    "                    pync.notify(f\"✅ ${file_name} a été copié depuis le NAS vers iCloud.\", title=\"AutoMove 🔁\", actions=\"Close\", execute=f'open \"{os.path.join(icloud_path, new_path)}\"')\n",
    "                else:\n",
    "                    pync.notify(f\"✅ ${file_name} a été mis à jour sur iCloud.\", title=\"AutoMove 🔁\", actions=\"Close\", execute=f'open \"{os.path.join(icloud_path, new_path)}\"')\n",
    "\n",
    "            elif len(paths) > 1 and new_path != f:\n",
    "                pync.notify(f\"✅  Bonne nouvelle ! \\n{len(paths)} fichier(s) copiés sur iCloud.\", title=\"AutoMove 🔁\", actions=\"Close\", execute=f'open \"{icloud_path}\"')\n",
    "\n",
    "            elif new_path == f:\n",
    "                pync.notify(f\"❓ Oups! Path inconnu\\n{file_name} a été déplacé à la racine du dossier.\",\n",
    "                            title=\"AutoMove 🔁\", actions=\"Close\", execute=f'open \"{os.path.join(icloud_path, new_path)}\"')\n",
    "\n",
    "    except FileNotFoundError:\n",
    "        pync.notify(f\"❓ Oups! Soucis de path sur le NAS...\\nCliquer pour debug\",\n",
    "                    title=\"AutoMove 🔁\", actions=\"Close\", execute=f'code \"/Users/clementsicard/Developer/GitHub/Automove\"')"
   ],
   "outputs": [],
   "metadata": {
    "collapsed": false,
    "pycharm": {
     "name": "#%%\n"
    }
   }
  },
  {
   "cell_type": "code",
   "execution_count": 74,
   "source": [
    "def backup_on_NAS(paths: List[str]):\n",
    "    try:\n",
    "        for f in paths:\n",
    "            new_path = modified_path_with_regex(f)\n",
    "            file_name = f[f.rfind(\"/\") + 1:]\n",
    "\n",
    "            path_exists_on_NAS = sftp_exists(os.path.join(sftp_path, new_path))\n",
    "            print(os.path.join(sftp_path, new_path), path_exists_on_NAS)\n",
    "            # TODO: change to sftp\n",
    "            sftp.rename(os.path.join(sftp_backup_path, f), os.path.join(sftp_path, new_path))\n",
    "\n",
    "            pync.notify(f\"✅  Bonne nouvelle ! \\n{len(paths)} fichier(s) sauvegardé(s) sur le NAS.\", title=\"AutoMove 🔁\", actions=\"Close\")\n",
    "\n",
    "    except FileNotFoundError:\n",
    "        pync.notify(f\"❓ Oups! Soucis de path pour la sauvegarde sur le NAS...\\nCliquer pour debug\",\n",
    "                    title=\"AutoMove 🔁\", actions=\"Close\", execute=f'code \"/Users/clementsicard/Developer/GitHub/Automove\"')"
   ],
   "outputs": [],
   "metadata": {
    "collapsed": false,
    "pycharm": {
     "name": "#%%\n"
    }
   }
  },
  {
   "cell_type": "code",
   "execution_count": 76,
   "source": [
    "icloud_folders = [folder for folder in next(os.walk(icloud_path))[1] if folder[0] != \".\"]\n",
    "\n",
    "files_to_upload = []\n",
    "\n",
    "for folder in icloud_folders:\n",
    "    files_to_upload_by_folder = get_files_to_upload(folder)\n",
    "\n",
    "    if files_to_upload_by_folder:\n",
    "        files_to_upload.extend(files_to_upload_by_folder)\n",
    "\n",
    "if files_to_upload:\n",
    "    nothing = False\n",
    "\n",
    "    copy_files_to_icloud(files_to_upload)\n",
    "    print(\"Done copying to iCloud\")\n",
    "\n",
    "    backup_on_NAS(files_to_upload)\n",
    "    print(\"Done backing up files to NAS\")\n",
    "\n",
    "elif not nothing:\n",
    "    nothing = True"
   ],
   "outputs": [
    {
     "output_type": "stream",
     "name": "stdout",
     "text": [
      "['Advanced Machine Learning/Notiz 24-09-2021 (2).note', 'Advanced Machine Learning/Notiz 24-09-2021.pdf', 'Advanced Machine Learning/Notiz 24-09-2021.note', 'Advanced Machine Learning/Notiz 24-09-2021 (2).pdf']\n",
      "Done copying to iCloud\n",
      "/CLEMENT/BACKUP COURS EPFL-ETHZ/2021-2022/MA1/Advanced Machine Learning/Notiz 24-09-2021 (2).note False\n",
      "/CLEMENT/BACKUP COURS EPFL-ETHZ/2021-2022/MA1/Advanced Machine Learning/Notiz 24-09-2021.pdf False\n",
      "/CLEMENT/BACKUP COURS EPFL-ETHZ/2021-2022/MA1/Advanced Machine Learning/Notiz 24-09-2021.note False\n",
      "/CLEMENT/BACKUP COURS EPFL-ETHZ/2021-2022/MA1/Advanced Machine Learning/Notiz 24-09-2021 (2).pdf False\n",
      "Done backing up files to NAS\n"
     ]
    }
   ],
   "metadata": {}
  },
  {
   "cell_type": "code",
   "execution_count": 65,
   "source": [],
   "outputs": [],
   "metadata": {
    "collapsed": false,
    "pycharm": {
     "name": "#%%\n"
    }
   }
  },
  {
   "cell_type": "code",
   "execution_count": null,
   "source": [],
   "outputs": [],
   "metadata": {
    "collapsed": false,
    "pycharm": {
     "name": "#%%\n"
    }
   }
  }
 ],
 "metadata": {
  "orig_nbformat": 4,
  "language_info": {
   "name": "python",
   "version": "3.8.9",
   "mimetype": "text/x-python",
   "codemirror_mode": {
    "name": "ipython",
    "version": 3
   },
   "pygments_lexer": "ipython3",
   "nbconvert_exporter": "python",
   "file_extension": ".py"
  },
  "kernelspec": {
   "name": "python3",
   "display_name": "Python 3.8.9 64-bit"
  },
  "interpreter": {
   "hash": "aee8b7b246df8f9039afb4144a1f6fd8d2ca17a180786b69acc140d282b71a49"
  }
 },
 "nbformat": 4,
 "nbformat_minor": 2
}